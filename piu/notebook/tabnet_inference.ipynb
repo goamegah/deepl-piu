{
 "cells": [
  {
   "cell_type": "code",
   "execution_count": 1,
   "metadata": {},
   "outputs": [],
   "source": [
    "from pathlib import Path\n",
    "import pandas as pd"
   ]
  },
  {
   "cell_type": "code",
   "execution_count": 2,
   "metadata": {},
   "outputs": [],
   "source": [
    "HERE = Path.cwd().parent.parent\n",
    "DATASET_PATH = HERE / 'dataset'"
   ]
  },
  {
   "cell_type": "code",
   "execution_count": 3,
   "metadata": {},
   "outputs": [],
   "source": [
    "import sys\n",
    "sys.path.append(str(HERE))"
   ]
  },
  {
   "cell_type": "code",
   "execution_count": 4,
   "metadata": {},
   "outputs": [],
   "source": [
    "from pytorch_tabnet.tab_model import TabNetClassifier, TabNetRegressor\n",
    "import pandas as pd\n",
    "from piu.data.data_preprocessor import DataPreprocessor\n",
    "from sklearn.model_selection import train_test_split\n",
    "import numpy as np\n",
    "import matplotlib.pyplot as plt"
   ]
  },
  {
   "cell_type": "code",
   "execution_count": null,
   "metadata": {},
   "outputs": [
    {
     "name": "stdout",
     "output_type": "stream",
     "text": [
      "✅ Colonnes communes utilisées : ['PAQ_A-PAQ_A_Total', 'SDS-SDS_Total_Raw', 'FGC-FGC_CU', 'Physical-Diastolic_BP', 'BIA-BIA_Fat', 'Physical-Season', 'BIA-BIA_Activity_Level_num', 'PreInt_EduHx-computerinternet_hoursday', 'FGC-FGC_GSD_Zone', 'BIA-BIA_FFMI', 'Basic_Demos-Enroll_Season', 'Physical-Height', 'Fitness_Endurance-Time_Mins', 'Physical-Weight', 'FGC-Season', 'BIA-BIA_BMR', 'FGC-FGC_SRL', 'id', 'FGC-FGC_CU_Zone', 'BIA-BIA_LDM', 'Fitness_Endurance-Max_Stage', 'Physical-Systolic_BP', 'BIA-BIA_LST', 'FGC-FGC_PU', 'PAQ_C-Season', 'Physical-HeartRate', 'Fitness_Endurance-Time_Sec', 'PreInt_EduHx-Season', 'BIA-BIA_DEE', 'Physical-Waist_Circumference', 'Basic_Demos-Age', 'Basic_Demos-Sex', 'BIA-BIA_FFM', 'Physical-BMI', 'Fitness_Endurance-Season', 'FGC-FGC_SRR_Zone', 'BIA-BIA_ECW', 'PAQ_A-Season', 'CGAS-CGAS_Score', 'FGC-FGC_SRR', 'SDS-SDS_Total_T', 'BIA-BIA_TBW', 'FGC-FGC_GSD', 'FGC-FGC_PU_Zone', 'FGC-FGC_TL', 'BIA-BIA_Frame_num', 'CGAS-Season', 'FGC-FGC_GSND_Zone', 'BIA-BIA_ICW', 'SDS-Season', 'FGC-FGC_TL_Zone', 'BIA-BIA_FMI', 'BIA-Season', 'BIA-BIA_BMI', 'FGC-FGC_GSND', 'BIA-BIA_BMC', 'BIA-BIA_SMM', 'PAQ_C-PAQ_C_Total', 'FGC-FGC_SRL_Zone', 'sii']\n",
      "✅ Nombre de features après transformation : 20\n",
      "✅ Répartition des classes dans train : [1275  584  302   27]\n",
      "✅ Répartition des classes dans test : [319 146  76   7]\n",
      "✅ Taille du train set: 2188, Taille du test set: 548\n"
     ]
    }
   ],
   "source": [
    "# 🔥 Charger les données de test\n",
    "df = pd.read_csv(f\"{TEST_DATA_PATH}\")\n",
    "\n",
    "# Vérifier si la colonne ID est présente\n",
    "ids = df['id'] if 'id' in df.columns else None\n",
    "df = df.drop(columns=['id'], errors='ignore')  # Supprimer la colonne ID si elle existe\n",
    "# 🔥 Charger le préprocesseur\n",
    "preprocessor = joblib.load(f\"{CHECKPOINT_DIR}/preprocessor.pkl\")\n",
    "# ✅ Aligner les colonnes avant transformation\n",
    "df_aligned = align_columns(df, preprocessor)\n",
    "# ✅ Appliquer la transformation avec le pipeline déjà entraîné\n",
    "X = preprocessor.pipeline.transform(df_aligned)\n",
    "# ✅ Appliquer la sélection de features (si elle a été faite à l'entraînement)\n",
    "if preprocessor.selector:\n",
    "    X = preprocessor.selector.transform(X)\n",
    "if preprocessor.selected_features_ is not None:\n",
    "    X = X[:, preprocessor.selected_features_]"
   ]
  },
  {
   "cell_type": "code",
   "execution_count": 7,
   "metadata": {},
   "outputs": [
    {
     "name": "stderr",
     "output_type": "stream",
     "text": [
      "/home/goamegah/Documents/workspace/venv/deepl-piu/lib/python3.10/site-packages/pytorch_tabnet/abstract_model.py:82: UserWarning: Device used : cpu\n",
      "  warnings.warn(f\"Device used : {self.device}\")\n"
     ]
    },
    {
     "name": "stdout",
     "output_type": "stream",
     "text": [
      "epoch 0  | loss: 1.70115 | val_0_accuracy: 0.26095 |  0:00:00s\n",
      "epoch 1  | loss: 1.49816 | val_0_accuracy: 0.19343 |  0:00:00s\n",
      "epoch 2  | loss: 1.41597 | val_0_accuracy: 0.14234 |  0:00:00s\n",
      "epoch 3  | loss: 1.34536 | val_0_accuracy: 0.17701 |  0:00:00s\n",
      "epoch 4  | loss: 1.28973 | val_0_accuracy: 0.19526 |  0:00:00s\n",
      "epoch 5  | loss: 1.26475 | val_0_accuracy: 0.18613 |  0:00:00s\n",
      "epoch 6  | loss: 1.23497 | val_0_accuracy: 0.21898 |  0:00:01s\n",
      "epoch 7  | loss: 1.19537 | val_0_accuracy: 0.24453 |  0:00:01s\n",
      "epoch 8  | loss: 1.1595  | val_0_accuracy: 0.23905 |  0:00:01s\n",
      "epoch 9  | loss: 1.1342  | val_0_accuracy: 0.25    |  0:00:01s\n",
      "epoch 10 | loss: 1.13783 | val_0_accuracy: 0.27555 |  0:00:01s\n",
      "epoch 11 | loss: 1.12437 | val_0_accuracy: 0.30292 |  0:00:01s\n",
      "epoch 12 | loss: 1.14645 | val_0_accuracy: 0.28467 |  0:00:01s\n",
      "epoch 13 | loss: 1.10404 | val_0_accuracy: 0.2719  |  0:00:01s\n",
      "epoch 14 | loss: 1.08803 | val_0_accuracy: 0.23905 |  0:00:02s\n",
      "epoch 15 | loss: 1.11827 | val_0_accuracy: 0.23723 |  0:00:02s\n",
      "epoch 16 | loss: 1.06296 | val_0_accuracy: 0.29015 |  0:00:02s\n",
      "epoch 17 | loss: 1.04028 | val_0_accuracy: 0.33394 |  0:00:02s\n",
      "epoch 18 | loss: 0.99118 | val_0_accuracy: 0.40328 |  0:00:02s\n",
      "epoch 19 | loss: 1.01827 | val_0_accuracy: 0.42883 |  0:00:02s\n",
      "epoch 20 | loss: 0.99321 | val_0_accuracy: 0.41788 |  0:00:02s\n",
      "epoch 21 | loss: 0.99262 | val_0_accuracy: 0.38504 |  0:00:03s\n",
      "epoch 22 | loss: 1.03888 | val_0_accuracy: 0.35766 |  0:00:03s\n",
      "epoch 23 | loss: 1.00022 | val_0_accuracy: 0.34672 |  0:00:03s\n",
      "epoch 24 | loss: 0.98841 | val_0_accuracy: 0.34307 |  0:00:03s\n",
      "epoch 25 | loss: 0.95853 | val_0_accuracy: 0.35219 |  0:00:03s\n",
      "epoch 26 | loss: 0.97277 | val_0_accuracy: 0.41423 |  0:00:03s\n",
      "epoch 27 | loss: 0.97244 | val_0_accuracy: 0.43248 |  0:00:03s\n",
      "epoch 28 | loss: 0.959   | val_0_accuracy: 0.45985 |  0:00:03s\n",
      "epoch 29 | loss: 0.95196 | val_0_accuracy: 0.45073 |  0:00:04s\n",
      "epoch 30 | loss: 1.00833 | val_0_accuracy: 0.40146 |  0:00:04s\n",
      "epoch 31 | loss: 1.00034 | val_0_accuracy: 0.38321 |  0:00:04s\n",
      "epoch 32 | loss: 0.96493 | val_0_accuracy: 0.36496 |  0:00:04s\n",
      "epoch 33 | loss: 0.95552 | val_0_accuracy: 0.39964 |  0:00:04s\n",
      "epoch 34 | loss: 0.9554  | val_0_accuracy: 0.46715 |  0:00:04s\n",
      "epoch 35 | loss: 0.9522  | val_0_accuracy: 0.47445 |  0:00:04s\n",
      "epoch 36 | loss: 0.93905 | val_0_accuracy: 0.45073 |  0:00:04s\n",
      "epoch 37 | loss: 0.95272 | val_0_accuracy: 0.41423 |  0:00:05s\n",
      "epoch 38 | loss: 0.95035 | val_0_accuracy: 0.37044 |  0:00:05s\n",
      "epoch 39 | loss: 0.92231 | val_0_accuracy: 0.35401 |  0:00:05s\n",
      "epoch 40 | loss: 0.97162 | val_0_accuracy: 0.39234 |  0:00:05s\n",
      "epoch 41 | loss: 0.92005 | val_0_accuracy: 0.43978 |  0:00:05s\n",
      "epoch 42 | loss: 0.94803 | val_0_accuracy: 0.44526 |  0:00:05s\n",
      "epoch 43 | loss: 0.92316 | val_0_accuracy: 0.4562  |  0:00:05s\n",
      "epoch 44 | loss: 0.90263 | val_0_accuracy: 0.45073 |  0:00:06s\n",
      "epoch 45 | loss: 0.91493 | val_0_accuracy: 0.43066 |  0:00:06s\n",
      "\n",
      "Early stopping occurred at epoch 45 with best_epoch = 35 and best_val_0_accuracy = 0.47445\n"
     ]
    },
    {
     "name": "stderr",
     "output_type": "stream",
     "text": [
      "/home/goamegah/Documents/workspace/venv/deepl-piu/lib/python3.10/site-packages/pytorch_tabnet/callbacks.py:172: UserWarning: Best weights from best epoch are automatically used!\n",
      "  warnings.warn(wrn_msg)\n"
     ]
    }
   ],
   "source": [
    "clf = TabNetClassifier()  #TabNetRegressor()\n",
    "clf.fit(\n",
    "  X_train, \n",
    "  y_train,\n",
    "  eval_set=[(X_test, y_test)],\n",
    "  weights=1\n",
    ")"
   ]
  },
  {
   "cell_type": "code",
   "execution_count": 8,
   "metadata": {},
   "outputs": [
    {
     "data": {
      "text/plain": [
       "[<matplotlib.lines.Line2D at 0x7fb1b7aa5db0>]"
      ]
     },
     "execution_count": 8,
     "metadata": {},
     "output_type": "execute_result"
    },
    {
     "data": {
      "image/png": "[encoded data removed]",
      "text/plain": [
       "<Figure size 640x480 with 1 Axes>"
      ]
     },
     "metadata": {},
     "output_type": "display_data"
    }
   ],
   "source": [
    "# plot losses\n",
    "plt.plot(clf.history['loss'])"
   ]
  },
  {
   "cell_type": "code",
   "execution_count": 9,
   "metadata": {},
   "outputs": [
    {
     "ename": "KeyError",
     "evalue": "'train_accuracy'",
     "output_type": "error",
     "traceback": [
      "\u001b[0;31m---------------------------------------------------------------------------\u001b[0m",
      "\u001b[0;31mKeyError\u001b[0m                                  Traceback (most recent call last)",
      "Cell \u001b[0;32mIn[9], line 2\u001b[0m\n\u001b[1;32m      1\u001b[0m \u001b[38;5;66;03m# plot accuracy\u001b[39;00m\n\u001b[0;32m----> 2\u001b[0m plt\u001b[38;5;241m.\u001b[39mplot(\u001b[43mclf\u001b[49m\u001b[38;5;241;43m.\u001b[39;49m\u001b[43mhistory\u001b[49m\u001b[43m[\u001b[49m\u001b[38;5;124;43m'\u001b[39;49m\u001b[38;5;124;43mtrain_accuracy\u001b[39;49m\u001b[38;5;124;43m'\u001b[39;49m\u001b[43m]\u001b[49m)\n\u001b[1;32m      3\u001b[0m plt\u001b[38;5;241m.\u001b[39mplot(clf\u001b[38;5;241m.\u001b[39mhistory[\u001b[38;5;124m'\u001b[39m\u001b[38;5;124mvalid_accuracy\u001b[39m\u001b[38;5;124m'\u001b[39m])\n",
      "File \u001b[0;32m~/Documents/workspace/venv/deepl-piu/lib/python3.10/site-packages/pytorch_tabnet/callbacks.py:233\u001b[0m, in \u001b[0;36mHistory.__getitem__\u001b[0;34m(self, name)\u001b[0m\n\u001b[1;32m    232\u001b[0m \u001b[38;5;28;01mdef\u001b[39;00m\u001b[38;5;250m \u001b[39m\u001b[38;5;21m__getitem__\u001b[39m(\u001b[38;5;28mself\u001b[39m, name):\n\u001b[0;32m--> 233\u001b[0m     \u001b[38;5;28;01mreturn\u001b[39;00m \u001b[38;5;28;43mself\u001b[39;49m\u001b[38;5;241;43m.\u001b[39;49m\u001b[43mhistory\u001b[49m\u001b[43m[\u001b[49m\u001b[43mname\u001b[49m\u001b[43m]\u001b[49m\n",
      "\u001b[0;31mKeyError\u001b[0m: 'train_accuracy'"
     ]
    }
   ],
   "source": [
    "# plot accuracy\n",
    "plt.plot(clf.history['train_accuracy'])\n",
    "plt.plot(clf.history['valid_accuracy'])"
   ]
  },
  {
   "cell_type": "code",
   "execution_count": null,
   "metadata": {},
   "outputs": [],
   "source": [
    "preds = clf.predict(X_test)\n",
    "print(preds)"
   ]
  }
 ],
 "metadata": {
  "kernelspec": {
   "display_name": "deepl-piu",
   "language": "python",
   "name": "python3"
  },
  "language_info": {
   "codemirror_mode": {
    "name": "ipython",
    "version": 3
   },
   "file_extension": ".py",
   "mimetype": "text/x-python",
   "name": "python",
   "nbconvert_exporter": "python",
   "pygments_lexer": "ipython3",
   "version": "3.10.5"
  }
 },
 "nbformat": 4,
 "nbformat_minor": 2
}
