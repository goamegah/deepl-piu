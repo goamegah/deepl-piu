{
 "cells": [
  {
   "cell_type": "code",
   "execution_count": 13,
   "metadata": {},
   "outputs": [],
   "source": [
    "from pathlib import Path\n",
    "import pandas as pd\n",
    "import numpy as np\n",
    "from piu.definitions import *"
   ]
  },
  {
   "cell_type": "code",
   "execution_count": 14,
   "metadata": {},
   "outputs": [],
   "source": [
    "HERE = Path.cwd().parent.parent\n",
    "DATASET_PATH = HERE / 'dataset'"
   ]
  },
  {
   "cell_type": "code",
   "execution_count": 15,
   "metadata": {},
   "outputs": [],
   "source": [
    "import sys\n",
    "import os\n",
    "import json\n",
    "sys.path.append(str(HERE))"
   ]
  },
  {
   "cell_type": "code",
   "execution_count": 16,
   "metadata": {},
   "outputs": [],
   "source": [
    "from pytorch_tabnet.tab_model import TabNetClassifier, TabNetRegressor\n",
    "import pandas as pd\n",
    "from piu.data.data_preprocessor import DataPreprocessor\n",
    "from sklearn.model_selection import train_test_split\n",
    "import numpy as np\n",
    "import matplotlib.pyplot as plt\n",
    "import joblib"
   ]
  },
  {
   "cell_type": "code",
   "execution_count": 17,
   "metadata": {},
   "outputs": [
    {
     "name": "stdout",
     "output_type": "stream",
     "text": [
      "✅ Colonnes communes utilisées : ['BIA-BIA_LDM', 'Physical-HeartRate', 'BIA-BIA_BMC', 'FGC-FGC_SRL', 'CGAS-Season', 'Physical-Systolic_BP', 'Basic_Demos-Enroll_Season', 'SDS-Season', 'SDS-SDS_Total_T', 'Fitness_Endurance-Max_Stage', 'BIA-BIA_FFMI', 'BIA-BIA_ICW', 'FGC-FGC_PU', 'BIA-BIA_ECW', 'SDS-SDS_Total_Raw', 'PAQ_A-Season', 'CGAS-CGAS_Score', 'FGC-FGC_CU', 'PAQ_C-Season', 'Fitness_Endurance-Season', 'FGC-FGC_SRR', 'id', 'BIA-BIA_SMM', 'BIA-BIA_Fat', 'PAQ_A-PAQ_A_Total', 'Fitness_Endurance-Time_Sec', 'BIA-Season', 'Physical-Weight', 'FGC-Season', 'FGC-FGC_GSD_Zone', 'BIA-BIA_FFM', 'Physical-BMI', 'BIA-BIA_LST', 'PreInt_EduHx-computerinternet_hoursday', 'Physical-Height', 'Physical-Diastolic_BP', 'PAQ_C-PAQ_C_Total', 'Basic_Demos-Sex', 'FGC-FGC_CU_Zone', 'BIA-BIA_BMI', 'BIA-BIA_BMR', 'BIA-BIA_DEE', 'PreInt_EduHx-Season', 'FGC-FGC_TL', 'Physical-Waist_Circumference', 'Physical-Season', 'FGC-FGC_SRL_Zone', 'Fitness_Endurance-Time_Mins', 'FGC-FGC_TL_Zone', 'FGC-FGC_GSND_Zone', 'BIA-BIA_Activity_Level_num', 'BIA-BIA_TBW', 'BIA-BIA_Frame_num', 'FGC-FGC_PU_Zone', 'FGC-FGC_GSD', 'FGC-FGC_GSND', 'Basic_Demos-Age', 'FGC-FGC_SRR_Zone', 'BIA-BIA_FMI', 'sii']\n",
      "✅ Nombre de features après transformation : 20\n",
      "✅ Répartition des classes dans train : [1275  584  302   27]\n",
      "✅ Répartition des classes dans test : [319 146  76   7]\n",
      "✅ Taille du train set: 2188, Taille du test set: 548\n"
     ]
    }
   ],
   "source": [
    "\n",
    "# 🔥 Charger les données\n",
    "train_df = pd.read_csv(f'{DATASET_PATH}/train.csv')\n",
    "test_df = pd.read_csv(f'{DATASET_PATH}/test.csv')\n",
    "\n",
    "# ✅ Vérifier les colonnes communes entre train et test\n",
    "common_columns = list(set(train_df.columns) & set(test_df.columns))\n",
    "if \"sii\" in train_df.columns:\n",
    "    common_columns.append(\"sii\")  # ✅ S'assurer que la colonne cible est présente dans train_df\n",
    "print(f\"✅ Colonnes communes utilisées : {common_columns}\")\n",
    "# 🔥 Garde uniquement les colonnes communes + la cible\n",
    "train_df = train_df[common_columns].drop(columns=['id'], errors='ignore')\n",
    "# ✅ Initialisation du préprocesseur\n",
    "preprocessor = DataPreprocessor(\n",
    "    target_column=\"sii\",\n",
    "    fts=\"pca\",\n",
    "    k_best=20,\n",
    "    imp=\"mean\",\n",
    "    imb=\"class_weight\",\n",
    "    drop_missing_target=True\n",
    ")\n",
    "\n",
    "X, y, class_weights = preprocessor.fit_transform(train_df)\n",
    "# 🔥 Vérification du nombre de features après transformation\n",
    "print(f\"✅ Nombre de features après transformation : {X.shape[1]}\")\n",
    "# ✅ Stratified Split pour conserver la répartition des classes\n",
    "X_train, X_test, y_train, y_test = train_test_split(\n",
    "    X, y, test_size=(1 - 0.8), stratify=y, random_state=42\n",
    ")\n",
    "print(f\"✅ Répartition des classes dans train : {np.bincount(y_train.numpy())}\")\n",
    "print(f\"✅ Répartition des classes dans test : {np.bincount(y_test.numpy())}\")\n",
    "print(f\"✅ Taille du train set: {len(y_train)}, Taille du test set: {len(y_test)}\")\n",
    "\n",
    "X_train = X_train.numpy()\n",
    "X_test = X_test.numpy()\n",
    "y_train = y_train.numpy()\n",
    "y_test = y_test.numpy()"
   ]
  },
  {
   "cell_type": "code",
   "execution_count": null,
   "metadata": {},
   "outputs": [],
   "source": [
    "target_column=\"sii\"\n",
    "# ['k_best', 'pca', 'f_classif', 'chi2', 'logistic_regression', \n",
    "#'lasso', 'variance_threshold', 'correlation_threshold', None]\n",
    "feature_selection_method=\"correlation_threshold\" \n",
    "k_best=20\n",
    "# ['median', 'mean', 'knn']\n",
    "imputation_method=\"mean\"\n",
    "train_split=0.8\n",
    "batch_size=8 # 8\n",
    "hidden_size=32\n",
    "num_epochs=300\n",
    "learning_rate=0.0001\n",
    "wandb_entity=\"goamegah\"\n",
    "patience=15\n",
    "model_name=\"tbn\"\n",
    "# ['class_weight', 'smote', 'random_over', 'random_under', None]\n",
    "balance_strategy=\"class_weight\"\n",
    "correlation_threshold=0.9"
   ]
  },
  {
   "cell_type": "code",
   "execution_count": null,
   "metadata": {},
   "outputs": [
    {
     "name": "stderr",
     "output_type": "stream",
     "text": [
      "/home/goamegah/Documents/workspace/venv/deepl-piu/lib/python3.10/site-packages/pytorch_tabnet/abstract_model.py:82: UserWarning: Device used : cpu\n",
      "  warnings.warn(f\"Device used : {self.device}\")\n"
     ]
    },
    {
     "name": "stdout",
     "output_type": "stream",
     "text": [
      "epoch 0  | loss: 1.70115 | val_0_accuracy: 0.26095 |  0:00:00s\n",
      "epoch 1  | loss: 1.49816 | val_0_accuracy: 0.19343 |  0:00:00s\n",
      "epoch 2  | loss: 1.41597 | val_0_accuracy: 0.14234 |  0:00:00s\n",
      "epoch 3  | loss: 1.34536 | val_0_accuracy: 0.17701 |  0:00:00s\n",
      "epoch 4  | loss: 1.28973 | val_0_accuracy: 0.19526 |  0:00:00s\n",
      "epoch 5  | loss: 1.26475 | val_0_accuracy: 0.18613 |  0:00:00s\n",
      "epoch 6  | loss: 1.23497 | val_0_accuracy: 0.21898 |  0:00:00s\n",
      "epoch 7  | loss: 1.19537 | val_0_accuracy: 0.24453 |  0:00:00s\n",
      "epoch 8  | loss: 1.1595  | val_0_accuracy: 0.23905 |  0:00:01s\n",
      "epoch 9  | loss: 1.1342  | val_0_accuracy: 0.25    |  0:00:01s\n",
      "epoch 10 | loss: 1.13783 | val_0_accuracy: 0.27555 |  0:00:01s\n",
      "epoch 11 | loss: 1.12437 | val_0_accuracy: 0.30292 |  0:00:01s\n",
      "epoch 12 | loss: 1.14645 | val_0_accuracy: 0.28467 |  0:00:01s\n",
      "epoch 13 | loss: 1.10404 | val_0_accuracy: 0.2719  |  0:00:01s\n",
      "epoch 14 | loss: 1.08803 | val_0_accuracy: 0.23905 |  0:00:01s\n",
      "epoch 15 | loss: 1.11827 | val_0_accuracy: 0.23723 |  0:00:01s\n",
      "epoch 16 | loss: 1.06296 | val_0_accuracy: 0.29015 |  0:00:01s\n",
      "epoch 17 | loss: 1.04028 | val_0_accuracy: 0.33394 |  0:00:01s\n",
      "epoch 18 | loss: 0.99118 | val_0_accuracy: 0.40328 |  0:00:02s\n",
      "epoch 19 | loss: 1.01827 | val_0_accuracy: 0.42883 |  0:00:02s\n",
      "epoch 20 | loss: 0.99321 | val_0_accuracy: 0.41788 |  0:00:02s\n",
      "epoch 21 | loss: 0.99262 | val_0_accuracy: 0.38504 |  0:00:02s\n",
      "epoch 22 | loss: 1.03888 | val_0_accuracy: 0.35766 |  0:00:02s\n",
      "epoch 23 | loss: 1.00022 | val_0_accuracy: 0.34672 |  0:00:02s\n",
      "epoch 24 | loss: 0.98841 | val_0_accuracy: 0.34307 |  0:00:02s\n",
      "epoch 25 | loss: 0.95853 | val_0_accuracy: 0.35219 |  0:00:02s\n",
      "epoch 26 | loss: 0.97277 | val_0_accuracy: 0.41423 |  0:00:02s\n",
      "epoch 27 | loss: 0.97244 | val_0_accuracy: 0.43248 |  0:00:02s\n",
      "epoch 28 | loss: 0.959   | val_0_accuracy: 0.45985 |  0:00:03s\n",
      "epoch 29 | loss: 0.95196 | val_0_accuracy: 0.45073 |  0:00:03s\n",
      "epoch 30 | loss: 1.00833 | val_0_accuracy: 0.40146 |  0:00:03s\n",
      "epoch 31 | loss: 1.00034 | val_0_accuracy: 0.38321 |  0:00:03s\n",
      "epoch 32 | loss: 0.96493 | val_0_accuracy: 0.36496 |  0:00:03s\n",
      "epoch 33 | loss: 0.95552 | val_0_accuracy: 0.39964 |  0:00:03s\n",
      "epoch 34 | loss: 0.9554  | val_0_accuracy: 0.46715 |  0:00:03s\n",
      "epoch 35 | loss: 0.9522  | val_0_accuracy: 0.47445 |  0:00:03s\n",
      "epoch 36 | loss: 0.93905 | val_0_accuracy: 0.45073 |  0:00:03s\n",
      "epoch 37 | loss: 0.95272 | val_0_accuracy: 0.41423 |  0:00:04s\n",
      "epoch 38 | loss: 0.95035 | val_0_accuracy: 0.37044 |  0:00:04s\n",
      "epoch 39 | loss: 0.92231 | val_0_accuracy: 0.35401 |  0:00:04s\n",
      "epoch 40 | loss: 0.97162 | val_0_accuracy: 0.39234 |  0:00:04s\n",
      "epoch 41 | loss: 0.92005 | val_0_accuracy: 0.43978 |  0:00:04s\n",
      "epoch 42 | loss: 0.94803 | val_0_accuracy: 0.44526 |  0:00:04s\n",
      "epoch 43 | loss: 0.92316 | val_0_accuracy: 0.4562  |  0:00:04s\n",
      "epoch 44 | loss: 0.90263 | val_0_accuracy: 0.45073 |  0:00:04s\n",
      "epoch 45 | loss: 0.91493 | val_0_accuracy: 0.43066 |  0:00:04s\n",
      "\n",
      "Early stopping occurred at epoch 45 with best_epoch = 35 and best_val_0_accuracy = 0.47445\n"
     ]
    },
    {
     "name": "stderr",
     "output_type": "stream",
     "text": [
      "/home/goamegah/Documents/workspace/venv/deepl-piu/lib/python3.10/site-packages/pytorch_tabnet/callbacks.py:172: UserWarning: Best weights from best epoch are automatically used!\n",
      "  warnings.warn(wrn_msg)\n"
     ]
    }
   ],
   "source": [
    "clf = TabNetClassifier()  #TabNetRegressor()\n",
    "clf.fit(\n",
    "  X_train, \n",
    "  y_train,\n",
    "  eval_set=[(X_test, y_test)],\n",
    "  weights=1\n",
    ")\n",
    "# create folder to save model based on the experiment\n",
    "CHECKPOINT_DIR = f\"{CHECKPOINT_PATH}/mod={model_name}-lr={args.lr}-fts={args.fts}-k={args.k_best}-imb={args.imb}\"\n",
    "os.makedirs(CHECKPOINT_DIR, exist_ok=True)\n",
    "\n",
    "\n",
    "# ✅ Sauvegarde du préprocesseur\n",
    "joblib.dump(preprocessor, f\"{CHECKPOINT_DIR}/preprocessor.pkl\")\n",
    "\n",
    "# ✅ Sauvegarde des arguments d'entraînement pour la reproductibilité\n",
    "config_path = f\"{CHECKPOINT_DIR}/config.json\"\n",
    "with open(config_path, \"w\") as f:\n",
    "    json.dump(config, f, indent=4)\n",
    "\n",
    "print(f\"✅ Config sauvegardée : {config_path}\")\n",
    "print(f\"\\n✅ Modèle et préprocesseur sauvegardés dans `{CHECKPOINT_DIR}`\")"
   ]
  },
  {
   "cell_type": "code",
   "execution_count": 7,
   "metadata": {},
   "outputs": [
    {
     "data": {
      "text/plain": [
       "[<matplotlib.lines.Line2D at 0x7f62c56a9c90>]"
      ]
     },
     "execution_count": 7,
     "metadata": {},
     "output_type": "execute_result"
    },
    {
     "data": {
      "image/png": "[encoded data removed]",
      "text/plain": [
       "<Figure size 640x480 with 1 Axes>"
      ]
     },
     "metadata": {},
     "output_type": "display_data"
    }
   ],
   "source": [
    "# plot losses\n",
    "plt.plot(clf.history['loss'])"
   ]
  },
  {
   "cell_type": "code",
   "execution_count": 8,
   "metadata": {},
   "outputs": [
    {
     "data": {
      "text/plain": [
       "[<matplotlib.lines.Line2D at 0x7f62c54ee890>]"
      ]
     },
     "execution_count": 8,
     "metadata": {},
     "output_type": "execute_result"
    },
    {
     "data": {
      "image/png": "[encoded data removed]",
      "text/plain": [
       "<Figure size 640x480 with 1 Axes>"
      ]
     },
     "metadata": {},
     "output_type": "display_data"
    }
   ],
   "source": [
    "# plot accuracy\n",
    "plt.plot(clf.history['val_0_accuracy'])\n"
   ]
  },
  {
   "cell_type": "code",
   "execution_count": 9,
   "metadata": {},
   "outputs": [
    {
     "name": "stdout",
     "output_type": "stream",
     "text": [
      "[0 3 2 2 0 0 2 0 3 1 2 0 0 0 0 0 2 2 0 2 2 0 0 2 2 0 1 3 1 0 2 0 1 2 3 0 2\n",
      " 2 1 0 2 3 0 2 3 0 0 0 2 0 3 2 0 2 2 0 2 0 2 1 2 0 0 2 0 2 0 2 0 2 2 2 0 0\n",
      " 0 2 0 0 2 2 3 2 3 1 2 0 0 0 1 2 2 2 2 0 2 0 2 2 0 1 2 0 0 3 1 2 0 2 0 3 1\n",
      " 1 2 1 2 2 0 1 0 1 0 3 0 0 0 3 0 0 2 0 1 0 1 1 1 2 1 0 2 0 2 0 3 0 2 0 0 0\n",
      " 3 2 0 0 0 3 3 0 0 1 0 2 1 0 0 2 1 2 0 0 0 0 0 0 0 2 2 0 2 0 1 0 0 0 2 0 2\n",
      " 0 2 0 3 2 0 1 0 0 2 0 0 0 1 2 2 0 0 3 1 1 0 2 0 1 0 3 1 0 0 0 0 0 3 0 3 0\n",
      " 1 0 0 0 1 3 0 0 2 0 2 2 1 0 0 2 2 0 0 0 0 0 0 0 2 1 0 1 0 1 2 1 0 2 0 2 0\n",
      " 0 0 3 0 1 3 2 2 0 0 2 0 0 0 2 1 3 0 0 0 0 3 0 0 0 0 3 3 2 0 2 0 2 1 0 3 0\n",
      " 0 2 0 0 1 0 1 0 2 2 0 2 2 3 0 2 0 3 2 0 0 2 0 1 2 0 0 0 2 2 0 0 0 0 0 1 0\n",
      " 0 2 1 2 0 2 0 0 0 0 1 0 0 1 0 2 2 3 2 2 0 0 1 2 1 1 2 0 2 2 2 3 0 2 3 2 0\n",
      " 0 1 0 3 0 0 0 0 0 0 0 0 0 2 0 2 1 0 1 0 0 0 2 0 2 1 0 2 2 0 1 0 0 2 1 2 1\n",
      " 1 1 2 0 1 0 0 0 2 0 0 1 0 0 0 0 0 2 1 0 2 2 3 0 0 2 0 2 3 0 0 0 0 0 0 2 2\n",
      " 0 3 0 1 0 0 1 1 0 2 1 0 0 1 1 3 1 0 1 0 0 0 2 1 0 0 2 0 0 2 3 2 2 1 0 0 2\n",
      " 0 2 0 3 0 0 2 0 0 0 0 0 0 0 0 0 0 2 0 2 1 2 1 0 0 2 0 0 3 3 2 0 2 0 0 1 1\n",
      " 2 0 3 2 1 2 0 0 0 2 0 1 0 1 2 0 0 0 0 0 2 0 0 0 0 2 2 0 0 0]\n"
     ]
    }
   ],
   "source": [
    "preds = clf.predict(X_test)\n",
    "print(preds)"
   ]
  },
  {
   "cell_type": "code",
   "execution_count": null,
   "metadata": {},
   "outputs": [],
   "source": [
    "saving_path_name = \"./tabnet_model_test_1\"\n",
    "# create folder to save model based on the experiment\n",
    "CHECKPOINT_DIR = f\"{CHECKPOINT_PATH}/mod={args.model_type}-lr={args.lr}-fts={args.fts}-k={args.k_best}-imb={args.imb}\"\n",
    "os.makedirs(CHECKPOINT_DIR, exist_ok=True)\n",
    "saved_filepath = clf.save_model(saving_path_name)"
   ]
  }
 ],
 "metadata": {
  "kernelspec": {
   "display_name": "deepl-piu",
   "language": "python",
   "name": "python3"
  },
  "language_info": {
   "codemirror_mode": {
    "name": "ipython",
    "version": 3
   },
   "file_extension": ".py",
   "mimetype": "text/x-python",
   "name": "python",
   "nbconvert_exporter": "python",
   "pygments_lexer": "ipython3",
   "version": "3.10.5"
  }
 },
 "nbformat": 4,
 "nbformat_minor": 2
}
